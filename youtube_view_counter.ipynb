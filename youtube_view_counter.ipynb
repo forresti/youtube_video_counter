{
 "cells": [
  {
   "cell_type": "code",
   "execution_count": null,
   "id": "9a39890e",
   "metadata": {},
   "outputs": [],
   "source": [
    "# Ryan Mazurkivich asked if we can automatically count views on youtube videos"
   ]
  },
  {
   "cell_type": "markdown",
   "id": "970ad22e",
   "metadata": {},
   "source": [
    "## minimum viable product"
   ]
  },
  {
   "cell_type": "code",
   "execution_count": 10,
   "id": "f313a03d",
   "metadata": {},
   "outputs": [
    {
     "name": "stdout",
     "output_type": "stream",
     "text": [
      "\u001b[0;33mWARNING:\u001b[0m unable to extract \u001b[0;34muploader id\u001b[0m; please report this issue on https://yt-dl.org/bug . Make sure you are using the latest version; see  https://yt-dl.org/update  on how to update. Be sure to call youtube-dl with the --verbose flag and include its complete output.\r\n"
     ]
    }
   ],
   "source": [
    "# get example json file\n",
    "\n",
    "!youtube-dl --dump-json \"https://www.youtube.com/watch?v=kPMaEYSywdI\" > kPMaEYSywdI.json"
   ]
  },
  {
   "cell_type": "code",
   "execution_count": 12,
   "id": "ca33f4d2",
   "metadata": {},
   "outputs": [],
   "source": [
    "import json\n",
    "\n",
    "with open(\"kPMaEYSywdI.json\", 'r') as f:\n",
    "    j = json.load(f)"
   ]
  },
  {
   "cell_type": "code",
   "execution_count": 15,
   "id": "5f5be3e9",
   "metadata": {},
   "outputs": [
    {
     "data": {
      "text/plain": [
       "4252"
      ]
     },
     "execution_count": 15,
     "metadata": {},
     "output_type": "execute_result"
    }
   ],
   "source": [
    "j['view_count']"
   ]
  },
  {
   "cell_type": "markdown",
   "id": "b46ee984",
   "metadata": {},
   "source": [
    "## making a nicer version"
   ]
  },
  {
   "cell_type": "code",
   "execution_count": 52,
   "id": "becd1167",
   "metadata": {},
   "outputs": [
    {
     "name": "stdout",
     "output_type": "stream",
     "text": [
      "{'title': 'Small Deep Neural Networks - Their Advantages, and Their Design', 'view_count': 9304}\n",
      "{'title': 'From SqueezeNet to SqueezeBERT: Developing Efficient Deep Neural Networks', 'view_count': 4252}\n",
      "{'title': 'Forrest Iandola, CEO of DeepScale. Tips and Tricks for Developing Smaller Neural Nets', 'view_count': 1040}\n",
      "{'title': 'Forrest Iandola on Automotive AI // Arm Innovator Series', 'view_count': 1040}\n",
      "{'title': 'How to become a Full-Stack Deep Learning Engineer by Forrest Iandola', 'view_count': 2583}\n",
      "{'title': 'R|P 2018: AI Experience with Forrest Iandola & Sammy Sidhu', 'view_count': 618}\n",
      "{'title': 'Perception Systems for Autonomous Vehicles using Energy-Efficient Deep Neural Networks', 'view_count': 106}\n",
      "{'title': 'Why I joined Anduril as an Ex-Tesla Engineer', 'view_count': 1194}\n",
      "{'title': 'A. Richard Newton Distinguished Innovator Lecture Series March 5, 2018', 'view_count': 359}\n",
      "{'title': 'SqueezeNAS: Fast neural architecture search for faster semantic segmentation', 'view_count': 6813}\n",
      "{'title': 'Developing Enabling Technologies for Automated Driving', 'view_count': 1971}\n",
      "{'title': 'Perception Systems for Autonomous Vehicles using Energy-Efficient Deep Neural Networks', 'view_count': 2286}\n",
      "{'title': 'CS267 3/13/18', 'view_count': 606}\n",
      "{'title': 'Tips and Tricks for Developing Smaller Neural Nets', 'view_count': 13}\n",
      "{'title': 'Developing Enabling Technologies for Automated Driving', 'view_count': 19}\n",
      "total_views: 32204\n"
     ]
    }
   ],
   "source": [
    "import subprocess\n",
    "import shlex\n",
    "import os\n",
    "\n",
    "# please put in your own video list.\n",
    "video_list = [\n",
    "    \"https://www.youtube.com/watch?v=AgpmDOsdTIA\",\n",
    "    \"https://www.youtube.com/watch?v=kPMaEYSywdI\",\n",
    "    \"https://www.youtube.com/watch?v=N-HnlYlhb18\",\n",
    "    \"https://www.youtube.com/watch?v=aeFLhCcglfo\",\n",
    "    \"https://www.youtube.com/watch?v=ActQGP2nv5c\",\n",
    "    \"https://www.youtube.com/watch?v=8TW47VxUddQ\",\n",
    "    \"https://www.youtube.com/watch?v=EB5_yFEk94g\",\n",
    "    \"https://www.youtube.com/watch?v=1QTeeR2cCyM\",\n",
    "    \"https://www.youtube.com/watch?v=ocOxZM6jHNM\",\n",
    "    \"https://www.youtube.com/watch?v=S539F4XqAz8\",\n",
    "    \"https://www.youtube.com/watch?v=7OgTl1gxzVY\",\n",
    "    \"https://www.youtube.com/watch?v=8XpYQkIlygk\",\n",
    "    \"https://www.youtube.com/watch?v=3hwI3FHZB_s\",\n",
    "    \"https://www.youtube.com/watch?v=d-Kol_nzk9c\",\n",
    "    \"https://www.youtube.com/watch?v=d-jiRlYGekQ\",\n",
    "]\n",
    "\n",
    "json_dir = \"./youtube_dl_json\"\n",
    "os.makedirs(json_dir, exist_ok=True)\n",
    "\n",
    "def get_video_data(url, json_dir):\n",
    "    vid_id = url.split('=')[-1] # e.g. https://www.youtube.com/watch?v=AgpmDOsdTIA --> AgpmDOsdTIA\n",
    "    p = subprocess.run(shlex.split(f\"youtube-dl --dump-json '{url}'\"), capture_output=True)\n",
    "    raw_json = p.stdout.decode('utf-8')\n",
    "    j = json.loads(raw_json)\n",
    "    return j\n",
    "\n",
    "def parse_video_data(json_data):\n",
    "    j = json_data\n",
    "    result = {}\n",
    "    result['title'] = j['title']\n",
    "    result['view_count'] = int(j['view_count'])\n",
    "    return result\n",
    "\n",
    "\n",
    "total_views = 0\n",
    "video_stats = [] # TODO(fni): use pandas dataframe maybe?\n",
    "for url in video_list:\n",
    "    json_path = get_video_data(url, json_dir)\n",
    "    result = parse_video_data(json_path)\n",
    "    video_stats.append(result)\n",
    "    total_views += result['view_count']\n",
    "    print(result)\n",
    "\n",
    "    \n",
    "print(f\"total_views: {total_views}\")\n",
    "\n"
   ]
  }
 ],
 "metadata": {
  "kernelspec": {
   "display_name": "Python 3 (ipykernel)",
   "language": "python",
   "name": "python3"
  },
  "language_info": {
   "codemirror_mode": {
    "name": "ipython",
    "version": 3
   },
   "file_extension": ".py",
   "mimetype": "text/x-python",
   "name": "python",
   "nbconvert_exporter": "python",
   "pygments_lexer": "ipython3",
   "version": "3.9.0"
  }
 },
 "nbformat": 4,
 "nbformat_minor": 5
}
